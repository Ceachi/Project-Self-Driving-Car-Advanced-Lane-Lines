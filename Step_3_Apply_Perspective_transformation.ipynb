{
 "cells": [
  {
   "cell_type": "code",
   "execution_count": 1,
   "metadata": {},
   "outputs": [],
   "source": [
    "#Import Section\n",
    "import numpy as np\n",
    "import cv2\n",
    "import glob\n",
    "import matplotlib.pyplot as plt\n",
    "import pickle\n",
    "%matplotlib inline"
   ]
  },
  {
   "cell_type": "code",
   "execution_count": 2,
   "metadata": {},
   "outputs": [],
   "source": [
    "# Loading camera calibration coefficients(matrix and camera coefficients) from pickle file\n",
    "def getCameraCalibrationCoefficientsFromPickleFile(filePath):\n",
    "    cameraCalibration = pickle.load( open(filePath, 'rb' ) )\n",
    "    mtx, dist = map(cameraCalibration.get, ('mtx', 'dist'))\n",
    "    return mtx, dist\n",
    "\n",
    "def getTestImages(filePath):\n",
    "    # Load test images.\n",
    "    testImages = list(map(lambda imageFileName: (imageFileName, cv2.imread(imageFileName)), glob.glob(filePath)))\n",
    "    return testImages"
   ]
  },
  {
   "cell_type": "code",
   "execution_count": 3,
   "metadata": {},
   "outputs": [],
   "source": [
    "# Load calibration images.\n",
    "testImages = getTestImages('./test_images/st*.jpg')\n",
    "\n",
    "#Get mtx and dist\n",
    "mtx, dist = getCameraCalibrationCoefficientsFromPickleFile('./pickled_data/camera_calibration.p')"
   ]
  },
  {
   "cell_type": "code",
   "execution_count": 4,
   "metadata": {},
   "outputs": [],
   "source": [
    "def draw_Lines_On_Image(image, vertices):\n",
    "    original = cv2.cvtColor(image,cv2.COLOR_BGR2RGB)\n",
    "    undist = cv2.undistort(original, mtx, dist, None, mtx)\n",
    "\n",
    "    color = [255, 0, 0]\n",
    "    w = 2\n",
    "    vertice_1 = vertices[0]\n",
    "    vertice_2 = vertices[1]\n",
    "    vertice_3 = vertices[2]\n",
    "    vertice_4 = vertices[3]\n",
    "    \n",
    "    \n",
    "    \n",
    "    cv2.line(undist, vertice_1, vertice_2, color, w)\n",
    "    cv2.line(undist, vertice_2, vertice_3, color, w)\n",
    "    cv2.line(undist, vertice_3, vertice_4, color, w)\n",
    "    cv2.line(undist, vertice_4, vertice_1, color, w)\n",
    "    fig, ax = plt.subplots(figsize=(40, 20))\n",
    "    ax.imshow(undist)\n",
    "\n",
    "def get_Rectangle_Vertices(image):    \n",
    "    imgHeight = int(image.shape[0])\n",
    "    imgWidth = int(image.shape[1])\n",
    "\n",
    "    vertice_1 = (190, imgHeight)\n",
    "    vertice_2 = (int(imgWidth/2 - imgWidth*.038), int(imgHeight/2 + imgHeight*.08 + 30))\n",
    "    vertice_3 = (int(imgWidth/2 + imgWidth*.038), int(imgHeight/2 + imgHeight*.08 + 30))\n",
    "    vertice_4 = (imgWidth-160, imgHeight)\n",
    "    vertices = (vertice_1, vertice_2, vertice_3, vertice_4)\n",
    "\n",
    "    return vertices\n",
    "\n",
    "\n",
    "def imageSideBySide(leftImg, leftTitle, rightImg, rightTitle, figsize=(20,10) , leftCmap=None, rightCmap=None):\n",
    "    fig, axes = plt.subplots(ncols=2, figsize=figsize)\n",
    "    if leftCmap == None:\n",
    "        axes[0].imshow(leftImg)\n",
    "    else:\n",
    "        axes[0].imshow(leftImg, cmap=leftCmap)\n",
    "    axes[0].set_title(leftTitle)\n",
    "    \n",
    "    if rightCmap == None:\n",
    "        axes[1].imshow(rightImg)\n",
    "    else:\n",
    "        axes[1].imshow(rightImg, cmap=rightCmap)\n",
    "    axes[1].set_title(rightTitle)"
   ]
  },
  {
   "cell_type": "code",
   "execution_count": 5,
   "metadata": {},
   "outputs": [],
   "source": [
    "#rectangle_vertices = get_Rectangle_Vertices(testImages[0][1])\n",
    "#draw_Lines_On_Image(testImages[0][1], rectangle_vertices)"
   ]
  },
  {
   "cell_type": "code",
   "execution_count": 6,
   "metadata": {},
   "outputs": [],
   "source": [
    "def get_Perspective(img, offset, mtx, dist):\n",
    "    undist = cv2.undistort(img, mtx, dist, None, mtx)        \n",
    "    gray = cv2.cvtColor(undist, cv2.COLOR_BGR2GRAY)\n",
    "    \n",
    "    rectangle_vertices = np.float32(get_Rectangle_Vertices(img)) \n",
    "\n",
    "    left1 = rectangle_vertices[0]\n",
    "    left2 = rectangle_vertices[1]\n",
    "    right1 = rectangle_vertices[2]\n",
    "    right2 = rectangle_vertices[3]\n",
    "\n",
    "    left1_x, left1_y = left1\n",
    "    left2_x, left2_y = left2\n",
    "    right1_x, right1_y = right1\n",
    "    right2_x, right2_y = right2\n",
    "\n",
    "    src = np.float32([ \n",
    "        [left2_x, left2_y],\n",
    "        [right1_x, right1_y],\n",
    "        [right2_x, right2_y],\n",
    "        [left1_x, left1_y]\n",
    "    ])\n",
    "    \n",
    "    nX = gray.shape[1]\n",
    "    nY = gray.shape[0]\n",
    "    img_size = (nX, nY)\n",
    "    dst = np.float32([\n",
    "        [offset, 0],\n",
    "        [img_size[0]-offset, 0],\n",
    "        [img_size[0]-offset, img_size[1]], \n",
    "        [offset, img_size[1]]\n",
    "    ])\n",
    "    # use cv2.getPerspectiveTransform() to get M, the transform matrix\n",
    "    M = cv2.getPerspectiveTransform(src, dst)\n",
    "    Minv = cv2.getPerspectiveTransform(dst, src)\n",
    "    # e) use cv2.warpPerspective() to warp your image to a top-down view\n",
    "    img_size = (gray.shape[1], gray.shape[0])\n",
    "    warped = cv2.warpPerspective(undist, M, img_size)\n",
    "    return M, Minv, warped"
   ]
  },
  {
   "cell_type": "code",
   "execution_count": 7,
   "metadata": {},
   "outputs": [],
   "source": [
    "original = cv2.cvtColor(testImages[0][1],cv2.COLOR_BGR2RGB)\n",
    "M, Minv, warped = get_Perspective(original, 200, mtx, dist)\n",
    "#imageSideBySide(original, 'Original', warped, 'Perspective transformed')\n",
    "\n",
    "#Write our results into file\n",
    "pickle.dump( { 'M': M, 'Minv': Minv }, open('./pickled_data/perspective_transform.p', 'wb'))"
   ]
  },
  {
   "cell_type": "code",
   "execution_count": null,
   "metadata": {},
   "outputs": [],
   "source": []
  }
 ],
 "metadata": {
  "kernelspec": {
   "display_name": "Python 3",
   "language": "python",
   "name": "python3"
  },
  "language_info": {
   "codemirror_mode": {
    "name": "ipython",
    "version": 3
   },
   "file_extension": ".py",
   "mimetype": "text/x-python",
   "name": "python",
   "nbconvert_exporter": "python",
   "pygments_lexer": "ipython3",
   "version": "3.7.3"
  }
 },
 "nbformat": 4,
 "nbformat_minor": 2
}
