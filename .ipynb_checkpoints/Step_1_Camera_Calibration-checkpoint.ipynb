{
 "cells": [
  {
   "cell_type": "markdown",
   "metadata": {},
   "source": [
    "### Step 1. Compute the camera calibration matrix and distortion coefficients given a set of chessboard images."
   ]
  },
  {
   "cell_type": "code",
   "execution_count": 1,
   "metadata": {},
   "outputs": [],
   "source": [
    "# Include section\n",
    "import numpy as np\n",
    "import cv2\n",
    "import glob\n",
    "import matplotlib.pyplot as plt\n",
    "import pickle\n",
    "# To output all the images inside jupyter\n",
    "%matplotlib inline "
   ]
  },
  {
   "cell_type": "code",
   "execution_count": 2,
   "metadata": {},
   "outputs": [],
   "source": [
    "# Load calibration images(chess boards in different angles from our camera_cal folder)\n",
    "def readChessImages():\n",
    "    imagePath = './camera_cal/c*.jpg'\n",
    "    calibrationImages = list(map(lambda imageFileName: (imageFileName, cv2.imread(imageFileName)), glob.glob(imagePath)))\n",
    "    return calibrationImages\n",
    "\n",
    "# Method for displaying the images\n",
    "def showImages(calibrationImages):\n",
    "    for img in calibrationImages:\n",
    "        cv2.imshow(str(img[0]),img[1])\n",
    "        cv2.waitKey(0)"
   ]
  },
  {
   "cell_type": "code",
   "execution_count": 3,
   "metadata": {},
   "outputs": [],
   "source": [
    "# Method for detecting the points in chess images (objpoints and imgpoints)\n",
    "def findingPoints(calibrationImages):\n",
    "    objpoints = []\n",
    "    imgpoints = []\n",
    "    outimages = []\n",
    "    originalImages = []\n",
    "\n",
    "    objp = np.zeros((6*9,3), np.float32) \n",
    "    objp[:,:2] = np.mgrid[0:9,0:6].T.reshape(-1,2) # x and y cordinates.\n",
    "\n",
    "    for imageAndFile in calibrationImages:\n",
    "        fileName, image = imageAndFile\n",
    "        gray = cv2.cvtColor(image, cv2.COLOR_BGR2GRAY)\n",
    "\n",
    "        ret, corners = cv2.findChessboardCorners(gray, (9,6), None)\n",
    "\n",
    "        if ret == True:\n",
    "            imgpoints.append(corners)\n",
    "            objpoints.append(objp)\n",
    "\n",
    "            img_points = cv2.drawChessboardCorners(image.copy(), (9,6), corners, ret)\n",
    "            outimages.append(img_points)\n",
    "            originalImages.append(image)\n",
    "   \n",
    "    return objpoints, imgpoints, originalImages, outimages\n",
    "\n",
    "# Method for returning camera matrix, mtx, and the distortion coefficients dist \n",
    "def getCoefficients(objpoints, imgpoints, originalImage):\n",
    "    ret, mtx, dist, rvecs, tvecs = cv2.calibrateCamera(objpoints, imgpoints, originalImage.shape[0:2], None, None)\n",
    "    return mtx, dist\n",
    "\n",
    "# Method for saving camera matrix, mtx, and the distortion coefficients dist into Pickle file\n",
    "def saveCoefficientsIntoPickleFile(mtx, dist,fileDestination):\n",
    "    pickle.dump({ 'mtx': mtx, 'dist': dist }, open(fileDestination, 'wb'))\n",
    "    \n",
    "    \n",
    "def showUndistortImage(original, mtx, dist):\n",
    "    undist = cv2.undistort(original, mtx, dist, None, mtx)\n",
    "    fig, axes = plt.subplots(ncols=2, figsize=(20, 10))\n",
    "    axes[0].imshow(original)\n",
    "    axes[0].set_title('Original Image')\n",
    "    axes[1].imshow(undist)\n",
    "    axes[1].set_title('Undistort of the original Image')"
   ]
  },
  {
   "cell_type": "code",
   "execution_count": 4,
   "metadata": {},
   "outputs": [],
   "source": [
    "# Read images\n",
    "calibrationImages = readChessImages()\n",
    "# Return object points and image points\n",
    "objpoints, imgpoints, originalImages, outimages = findingPoints(calibrationImages)\n",
    "# Save coefficients into pickle\n",
    "originalImage = originalImages[10]\n",
    "\n",
    "#Getting the coefficients we need for camera calibration\n",
    "mtx,dist = getCoefficients(objpoints, imgpoints, originalImage)\n",
    "\n",
    "saveCoefficientsIntoPickleFile(mtx, dist, './pickled_data/camera_calibration.p')\n",
    "\n",
    "# Print mtx, and dist\n",
    "# print(\"Camera matrix: \", mtx)\n",
    "# print(\"Distortion coefficient: \", dist)\n",
    "\n",
    "# print(\"Showing original image --> undistort result we got of the image\")\n",
    "# showUndistortImage(originalImage, mtx,dist)"
   ]
  },
  {
   "cell_type": "code",
   "execution_count": null,
   "metadata": {},
   "outputs": [],
   "source": []
  }
 ],
 "metadata": {
  "kernelspec": {
   "display_name": "Python 3",
   "language": "python",
   "name": "python3"
  },
  "language_info": {
   "codemirror_mode": {
    "name": "ipython",
    "version": 3
   },
   "file_extension": ".py",
   "mimetype": "text/x-python",
   "name": "python",
   "nbconvert_exporter": "python",
   "pygments_lexer": "ipython3",
   "version": "3.7.3"
  }
 },
 "nbformat": 4,
 "nbformat_minor": 2
}
