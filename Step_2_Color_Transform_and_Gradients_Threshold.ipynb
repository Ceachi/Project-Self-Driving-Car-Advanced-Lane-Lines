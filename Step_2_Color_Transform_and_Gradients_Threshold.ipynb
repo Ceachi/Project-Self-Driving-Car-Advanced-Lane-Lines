{
 "cells": [
  {
   "cell_type": "code",
   "execution_count": 1,
   "metadata": {},
   "outputs": [],
   "source": [
    "#Import section\n",
    "import numpy as np\n",
    "import cv2\n",
    "import glob\n",
    "import matplotlib.pyplot as plt\n",
    "import pickle\n",
    "%matplotlib inline"
   ]
  },
  {
   "cell_type": "code",
   "execution_count": 2,
   "metadata": {},
   "outputs": [],
   "source": [
    "# Loading camera calibration coefficients(matrix and camera coefficients) from pickle file\n",
    "def getCameraCalibrationCoefficientsFromPickleFile(filePath):\n",
    "    cameraCalibration = pickle.load( open(filePath, 'rb' ) )\n",
    "    mtx, dist = map(cameraCalibration.get, ('mtx', 'dist'))\n",
    "    return mtx, dist\n",
    "\n",
    "def getTestImages(filePath):\n",
    "    # Load test images.\n",
    "    testImages = list(map(lambda imageFileName: (imageFileName, cv2.imread(imageFileName)), glob.glob(filePath)))\n",
    "    return testImages"
   ]
  },
  {
   "cell_type": "code",
   "execution_count": 3,
   "metadata": {},
   "outputs": [],
   "source": [
    "def undistortImageAndGetHLS(image, mtx, dist):\n",
    "    # hlsOriginal = undistortAndHLS(originalImage, mtx, dist)\n",
    "    \"\"\"\n",
    "    Undistort the image with `mtx`, `dist` and convert it to HLS.\n",
    "    \"\"\"\n",
    "    undist = cv2.undistort(image, mtx, dist, None, mtx)\n",
    "    hls = cv2.cvtColor(undist, cv2.COLOR_RGB2HLS)\n",
    "    #extract HLS from the image\n",
    "    H = hls[:,:,0] #channels\n",
    "    L = hls[:,:,1]\n",
    "    S = hls[:,:,2]\n",
    "    return H, L, S"
   ]
  },
  {
   "cell_type": "code",
   "execution_count": 4,
   "metadata": {},
   "outputs": [],
   "source": [
    "def thresh(yourChannel, threshMin = 0, threshMax = 255):\n",
    "    # Apply a threshold to the S channel\n",
    "    # thresh = (0, 160)\n",
    "    binary_output = np.zeros_like(yourChannel)\n",
    "    binary_output[(yourChannel >= threshMin) & (yourChannel <= threshMax)] = 1\n",
    "    # Return a binary image of threshold result\n",
    "    return binary_output"
   ]
  },
  {
   "cell_type": "code",
   "execution_count": 5,
   "metadata": {},
   "outputs": [],
   "source": [
    "def applySobel(img, orient='x', sobel_kernel=3, thresh_min = 0, thresh_max = 255):\n",
    "    # Apply the following steps to img\n",
    "    # 1) Take the derivative in x or y given orient = 'x' or 'y'\n",
    "    sobel = 0\n",
    "    if orient == 'x':\n",
    "        sobel = cv2.Sobel(img, cv2.CV_64F, 1, 0, ksize=sobel_kernel)\n",
    "    else:\n",
    "        sobel = cv2.Sobel(img, cv2.CV_64F, 0, 1, ksize=sobel_kernel)\n",
    "    # 2) Take the absolute value of the derivative or gradient\n",
    "    abs_sobel = np.absolute(sobel)\n",
    "    # 3) Scale to 8-bit (0 - 255) then convert to type = np.uint8\n",
    "    scaled_sobel = np.uint8(255*abs_sobel/np.max(abs_sobel))\n",
    "    # 4) Create a mask of 1's where the scaled gradient magnitude is > thresh_min and < thresh_max\n",
    "    binary_output = thresh(scaled_sobel,thresh_min,thresh_max)      \n",
    "    # 5) Return this mask as your binary_output image\n",
    "    return binary_output"
   ]
  },
  {
   "cell_type": "code",
   "execution_count": 6,
   "metadata": {},
   "outputs": [],
   "source": [
    "def applyActionToImages(images, action):\n",
    "    return list(map(lambda img: (img[0], action(img[1])), images))\n",
    "\n",
    "# Method to plot images on cols / rows \n",
    "def showImages(images, cols = 4, rows = 5, figsize=(15,10), cmap = None):\n",
    "    imgLength = len(images)\n",
    "    fig, axes = plt.subplots(rows, cols, figsize=figsize)\n",
    "    indexes = range(cols * rows)\n",
    "    for ax, index in zip(axes.flat, indexes):\n",
    "        if index < imgLength:\n",
    "            imagePathName, image = images[index]\n",
    "            if cmap == None:\n",
    "                ax.imshow(image)\n",
    "            else:\n",
    "                ax.imshow(image, cmap=cmap)\n",
    "            ax.set_title(imagePathName)\n",
    "            ax.axis('off')\n",
    "    \n",
    "# Get camera matrix and distortion coefficient\n",
    "mtx, dist = getCameraCalibrationCoefficientsFromPickleFile('./pickled_data/camera_calibration.p')\n",
    "    \n",
    "# Lambda action applied on all images\n",
    "useSChannel = lambda img: undistortImageAndGetHLS(img, mtx, dist)[2]\n",
    "\n",
    "# Get Test images\n",
    "testImages = getTestImages('./test_images/*.jpg')\n",
    "\n",
    "# Get all 'S' channels from all Test images\n",
    "resultSChannel = applyActionToImages(testImages, useSChannel)\n",
    "\n",
    "# Show our result\n",
    "#showImages(resultSChannel, 2, 3, (15, 13), cmap='gray')"
   ]
  },
  {
   "cell_type": "code",
   "execution_count": 7,
   "metadata": {},
   "outputs": [],
   "source": [
    "# Apply Sobel in 'x' direction and plot images\n",
    "applySobelX = lambda img: applySobel(useSChannel(img), orient='x', thresh_min=10, thresh_max=160)\n",
    "\n",
    "# Get all 'S' channels from all Test images\n",
    "resultApplySobelX = applyActionToImages(testImages, applySobelX)\n",
    "\n",
    "# Show our result\n",
    "#showImages(resultApplySobelX, 2, 3, (15, 13), cmap='gray')"
   ]
  },
  {
   "cell_type": "code",
   "execution_count": 8,
   "metadata": {},
   "outputs": [],
   "source": [
    "# Apply Sobel in 'y' direction and plot images\n",
    "applySobelY = lambda img: applySobel(useSChannel(img), orient='y', thresh_min=10, thresh_max=160)\n",
    "\n",
    "# Get all 'S' channels from all Test images\n",
    "resultApplySobelY = applyActionToImages(testImages, applySobelY)\n",
    "\n",
    "# Show our result\n",
    "#showImages(resultApplySobelY, 2, 3, (15, 13), cmap='gray')"
   ]
  },
  {
   "cell_type": "code",
   "execution_count": 9,
   "metadata": {},
   "outputs": [],
   "source": [
    "def mag_thresh(img, sobel_kernel=3, thresh_min = 0, thresh_max = 255):\n",
    "    # Apply the following steps to img\n",
    "    # 1) Take the gradient in x and y separately\n",
    "    sobelX = cv2.Sobel(img, cv2.CV_64F, 1, 0, ksize=sobel_kernel)\n",
    "    sobelY = cv2.Sobel(img, cv2.CV_64F, 0, 1, ksize=sobel_kernel)\n",
    "    # 2) Calculate the magnitude\n",
    "    gradmag = np.sqrt(sobelX**2 + sobelY**2)\n",
    "    # 3) Scale to 8-bit (0 - 255) and convert to type = np.uint8\n",
    "    scale_factor = np.max(gradmag)/255 \n",
    "    gradmag = (gradmag/scale_factor).astype(np.uint8) \n",
    "    # 4) Create a binary mask where mag thresholds are met\n",
    "    binary_output = thresh(gradmag,thresh_min, thresh_max)\n",
    "    # 5) Return this mask as your binary_output image\n",
    "    return binary_output"
   ]
  },
  {
   "cell_type": "code",
   "execution_count": 10,
   "metadata": {},
   "outputs": [],
   "source": [
    "# Apply Magnitude in 'x' and 'y' directions in order to calcultate the magnitude of pixels and plot images\n",
    "applyMagnitude = lambda img: mag_thresh(useSChannel(img), thresh_min=5, thresh_max=160)\n",
    "\n",
    "# Apply the lamnda function to all test images\n",
    "resultMagnitudes = applyActionToImages(testImages, applyMagnitude)\n",
    "\n",
    "# Show our result\n",
    "#showImages(resultMagnitudes, 2, 3, (15, 13), cmap='gray')"
   ]
  },
  {
   "cell_type": "code",
   "execution_count": 11,
   "metadata": {},
   "outputs": [],
   "source": [
    "# Define a function that applies Sobel x and y, \n",
    "# then computes the direction of the gradient\n",
    "# and applies a threshold.\n",
    "def dir_threshold(img, sobel_kernel=3, thresh_min = 0, thresh_max = np.pi/2):\n",
    "    # 1) Take the gradient in x and y separately and \n",
    "    # Take the absolute value of the x and y gradients\n",
    "    sobelX = np.absolute(cv2.Sobel(img, cv2.CV_64F, 1, 0, ksize=sobel_kernel))\n",
    "    sobelY = np.absolute(cv2.Sobel(img, cv2.CV_64F, 0, 1, ksize=sobel_kernel))\n",
    "    # 2) Use np.arctan2(abs_sobely, abs_sobelx) to calculate the direction of the gradient \n",
    "    # sobelY / sobelX \n",
    "    gradientDirection = np.arctan2(sobelY, sobelX)\n",
    "    # 3) Create a binary mask where direction thresholds are met\n",
    "    binary_output = thresh(gradientDirection, thresh_min, thresh_max)\n",
    "    # 4) Return this mask as your binary_output image\n",
    "    return binary_output"
   ]
  },
  {
   "cell_type": "code",
   "execution_count": 12,
   "metadata": {},
   "outputs": [],
   "source": [
    "# Apply direction of the gradient\n",
    "applyDirection = lambda img: dir_threshold(useSChannel(img), thresh_min=0.79, thresh_max=1.20)\n",
    "\n",
    "# Apply the lambda function to all test images\n",
    "resultDirection = applyActionToImages(testImages, applyDirection)\n",
    "\n",
    "# Show our result\n",
    "#showImages(resultDirection, 2, 3, (15, 13), cmap='gray')"
   ]
  },
  {
   "cell_type": "code",
   "execution_count": 13,
   "metadata": {},
   "outputs": [],
   "source": [
    "def combineGradients(img):\n",
    "    sobelX = applySobelX(img)\n",
    "    sobelY = applySobelY(img)\n",
    "    magnitude = applyMagnitude(img)\n",
    "    direction = applyDirection(img)\n",
    "    combined = np.zeros_like(sobelX) \n",
    "    combined[((sobelX == 1) & (sobelY == 1)) | ((magnitude == 1) & (direction == 1))] = 1\n",
    "    return combined\n",
    "\n",
    "resultCombined = applyActionToImages(testImages, combineGradients)\n",
    "\n",
    "# Show our result\n",
    "#showImages(resultCombined, 2, 3, (15, 13), cmap='gray')"
   ]
  },
  {
   "cell_type": "code",
   "execution_count": 14,
   "metadata": {},
   "outputs": [],
   "source": [
    "def show_compared_results():\n",
    "    titles = ['Apply Sobel X', 'Apply Sobel Y', 'Apply Magnitude', 'Apply Direction', 'Combined']\n",
    "    results = list(zip(resultApplySobelX, resultApplySobelY, resultMagnitudes, resultDirection, resultCombined))\n",
    "    # only 5 images\n",
    "    resultsAndTitle = list(map(lambda images: list(zip(titles, images)), results))[3:6]\n",
    "    flattenResults = [item for sublist in resultsAndTitle for item in sublist]\n",
    "    fig, axes = plt.subplots(ncols=5, nrows=len(resultsAndTitle), figsize=(25,10))\n",
    "    for ax, imageTuple in zip(axes.flat, flattenResults):\n",
    "        title, images = imageTuple\n",
    "        imagePath, img = images\n",
    "        ax.imshow(img, cmap='gray')\n",
    "        ax.set_title(imagePath + '\\n' + title, fontsize=8)\n",
    "        ax.axis('off')\n",
    "    fig.subplots_adjust(hspace=0, wspace=0.05, bottom=0)"
   ]
  }
 ],
 "metadata": {
  "kernelspec": {
   "display_name": "Python 3",
   "language": "python",
   "name": "python3"
  },
  "language_info": {
   "codemirror_mode": {
    "name": "ipython",
    "version": 3
   },
   "file_extension": ".py",
   "mimetype": "text/x-python",
   "name": "python",
   "nbconvert_exporter": "python",
   "pygments_lexer": "ipython3",
   "version": "3.7.3"
  }
 },
 "nbformat": 4,
 "nbformat_minor": 2
}
